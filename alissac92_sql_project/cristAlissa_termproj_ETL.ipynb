{
 "cells": [
  {
   "cell_type": "markdown",
   "metadata": {},
   "source": [
    "Alissa Crist\n",
    "BU MET CS 689, Spring O2 2024\n",
    "4/11/2024\n",
    "Term Project Update 3, ETL"
   ]
  },
  {
   "cell_type": "markdown",
   "metadata": {},
   "source": [
    "Import libraries, set options"
   ]
  },
  {
   "cell_type": "code",
   "execution_count": 1,
   "metadata": {},
   "outputs": [],
   "source": [
    "import pandas as pd\n",
    "from datetime import datetime\n",
    "\n",
    "pd.set_option('display.max_rows', 500)\n",
    "pd.set_option('display.max_columns', None)\n",
    "pd.set_option('display.width', 1000)"
   ]
  },
  {
   "cell_type": "markdown",
   "metadata": {},
   "source": [
    "Load .csv files into dataframes"
   ]
  },
  {
   "cell_type": "code",
   "execution_count": 2,
   "metadata": {},
   "outputs": [],
   "source": [
    "# Load Permit Appliactions file into df\n",
    "permit_df = pd.read_csv(\"Files/Permit_Applications_20240410.csv\", low_memory=False)\n",
    "# Load Planning Appliactions file into df\n",
    "planning_df = pd.read_csv(\"Files/Planning_Applications_20240410.csv\", low_memory=False)\n",
    "# Load Orlando Workforce file into df\n",
    "workforce_df = pd.read_csv(\"Files/Orlando_Workforce.csv\", low_memory=False)\n",
    "# Load Orlando Housing Data file into df\n",
    "housing_df = pd.read_csv(\"Files/Orlando_Housing_Data.csv\", low_memory=False)"
   ]
  },
  {
   "cell_type": "markdown",
   "metadata": {},
   "source": [
    "Adjust date formatting on permit_df"
   ]
  },
  {
   "cell_type": "code",
   "execution_count": 3,
   "metadata": {},
   "outputs": [],
   "source": [
    "permit_df['Processed Date'] = pd.to_datetime(permit_df['Processed Date'], format='%m/%d/%Y')"
   ]
  },
  {
   "cell_type": "markdown",
   "metadata": {},
   "source": [
    "Select only permits newer than Jan 1, 2022"
   ]
  },
  {
   "cell_type": "code",
   "execution_count": 4,
   "metadata": {},
   "outputs": [],
   "source": [
    "permit_df_2022 = permit_df.loc[(permit_df['Processed Date'] >= '01/01/2022')]"
   ]
  },
  {
   "cell_type": "markdown",
   "metadata": {},
   "source": [
    "Adjust date formatting on planning_df"
   ]
  },
  {
   "cell_type": "code",
   "execution_count": 5,
   "metadata": {},
   "outputs": [],
   "source": [
    "planning_df['Application Date'] = pd.to_datetime(planning_df['Application Date'], format='%Y-%m-%d')\n",
    "planning_df['Approval Date'] = pd.to_datetime(planning_df['Approval Date'], format='%Y-%m-%d')\n",
    "planning_df['Last Action Date'] = pd.to_datetime(planning_df['Last Action Date'], format='%Y-%m-%d')"
   ]
  },
  {
   "cell_type": "markdown",
   "metadata": {},
   "source": [
    "Select only planning permits newer than Jan 1, 2022"
   ]
  },
  {
   "cell_type": "code",
   "execution_count": 6,
   "metadata": {},
   "outputs": [],
   "source": [
    "planning_df_2022 = planning_df.loc[(planning_df['Application Date'] >= '01/01/2022')]"
   ]
  },
  {
   "cell_type": "markdown",
   "metadata": {},
   "source": [
    "Create subset of permit data with just the attributes we need"
   ]
  },
  {
   "cell_type": "code",
   "execution_count": 7,
   "metadata": {},
   "outputs": [],
   "source": [
    "permit_df_2022_sub = permit_df_2022[['Permit Number', 'Application Type', 'Plan Review Type', 'Project Name', 'Permit Address',\n",
    "                                     'Parcel Number', 'Parcel Owner Name', 'Property Owner Name', 'Square Footage', 'Neighborhood',\n",
    "                                     'Contractor Name', 'Contractor', 'Contractor Address', 'Commissioner District', 'Mainstreet District',\n",
    "                                     'Estimated Cost', 'Application Status', 'Processed Date', 'Issue Permit Date']]"
   ]
  },
  {
   "cell_type": "markdown",
   "metadata": {},
   "source": [
    "One more date adjustment"
   ]
  },
  {
   "cell_type": "code",
   "execution_count": 8,
   "metadata": {},
   "outputs": [
    {
     "name": "stderr",
     "output_type": "stream",
     "text": [
      "/var/folders/s_/qq24xl7d1s7f49945mqkqtx00000gn/T/ipykernel_12114/480771700.py:1: SettingWithCopyWarning: \n",
      "A value is trying to be set on a copy of a slice from a DataFrame.\n",
      "Try using .loc[row_indexer,col_indexer] = value instead\n",
      "\n",
      "See the caveats in the documentation: https://pandas.pydata.org/pandas-docs/stable/user_guide/indexing.html#returning-a-view-versus-a-copy\n",
      "  permit_df_2022_sub['Issue Permit Date'] = pd.to_datetime(permit_df_2022_sub['Issue Permit Date'], format='%m/%d/%Y')\n"
     ]
    },
    {
     "data": {
      "text/html": [
       "<div>\n",
       "<style scoped>\n",
       "    .dataframe tbody tr th:only-of-type {\n",
       "        vertical-align: middle;\n",
       "    }\n",
       "\n",
       "    .dataframe tbody tr th {\n",
       "        vertical-align: top;\n",
       "    }\n",
       "\n",
       "    .dataframe thead th {\n",
       "        text-align: right;\n",
       "    }\n",
       "</style>\n",
       "<table border=\"1\" class=\"dataframe\">\n",
       "  <thead>\n",
       "    <tr style=\"text-align: right;\">\n",
       "      <th></th>\n",
       "      <th>Permit Number</th>\n",
       "      <th>Application Type</th>\n",
       "      <th>Plan Review Type</th>\n",
       "      <th>Project Name</th>\n",
       "      <th>Permit Address</th>\n",
       "      <th>Parcel Number</th>\n",
       "      <th>Parcel Owner Name</th>\n",
       "      <th>Property Owner Name</th>\n",
       "      <th>Square Footage</th>\n",
       "      <th>Neighborhood</th>\n",
       "      <th>Contractor Name</th>\n",
       "      <th>Contractor</th>\n",
       "      <th>Contractor Address</th>\n",
       "      <th>Commissioner District</th>\n",
       "      <th>Mainstreet District</th>\n",
       "      <th>Estimated Cost</th>\n",
       "      <th>Application Status</th>\n",
       "      <th>Processed Date</th>\n",
       "      <th>Issue Permit Date</th>\n",
       "    </tr>\n",
       "  </thead>\n",
       "  <tbody>\n",
       "    <tr>\n",
       "      <th>88</th>\n",
       "      <td>ENG2023-12665</td>\n",
       "      <td>Engineering</td>\n",
       "      <td>Residential 1/2</td>\n",
       "      <td>ADDITION</td>\n",
       "      <td>12062 AMPERSAND DR</td>\n",
       "      <td>312403897701590</td>\n",
       "      <td>ONEY GEORGE ALAN ONEY DEBRA ANN</td>\n",
       "      <td>ONEY DEBRA ANN, ONEY GEORGE ALAN</td>\n",
       "      <td>0.0</td>\n",
       "      <td>Storey Park</td>\n",
       "      <td>NaN</td>\n",
       "      <td>NaN</td>\n",
       "      <td>NaN</td>\n",
       "      <td>1</td>\n",
       "      <td>NaN</td>\n",
       "      <td>0.0</td>\n",
       "      <td>Finaled</td>\n",
       "      <td>2023-11-07</td>\n",
       "      <td>2023-11-08</td>\n",
       "    </tr>\n",
       "    <tr>\n",
       "      <th>567</th>\n",
       "      <td>ENG2023-11739</td>\n",
       "      <td>Engineering</td>\n",
       "      <td>Residential 1/2</td>\n",
       "      <td>REPAIR AND REPLACE</td>\n",
       "      <td>7234 BLACK BULL LN</td>\n",
       "      <td>282302345400810</td>\n",
       "      <td>HUNSBERGER SHANE MICHAEL FRANCHIM SAMANTA CHI...</td>\n",
       "      <td>FRANCHIM SAMANTA CHIARINI</td>\n",
       "      <td>0.0</td>\n",
       "      <td>Metro West</td>\n",
       "      <td>ALPHA FOUNDATION SPECIALISTS INC</td>\n",
       "      <td>MATTHEW S SHANLEY</td>\n",
       "      <td>P O BOX 14989,TALLAHASSEE, FL 32317</td>\n",
       "      <td>6</td>\n",
       "      <td>NaN</td>\n",
       "      <td>0.0</td>\n",
       "      <td>Finaled</td>\n",
       "      <td>2023-07-05</td>\n",
       "      <td>2023-07-10</td>\n",
       "    </tr>\n",
       "    <tr>\n",
       "      <th>659</th>\n",
       "      <td>SIF2021-186-14</td>\n",
       "      <td>School Impact Fees</td>\n",
       "      <td>Residential 1/2</td>\n",
       "      <td>Laureate Park Parcel N-3 Phase 2 107/135  Lot 80</td>\n",
       "      <td>10340 MARCONI AVE</td>\n",
       "      <td>312431484600800</td>\n",
       "      <td>CENTURY HOMES FLORIDA LLC</td>\n",
       "      <td>NaN</td>\n",
       "      <td>3062.0</td>\n",
       "      <td>Lake Nona South</td>\n",
       "      <td>NaN</td>\n",
       "      <td>NaN</td>\n",
       "      <td>NaN</td>\n",
       "      <td>1</td>\n",
       "      <td>NaN</td>\n",
       "      <td>0.0</td>\n",
       "      <td>Closed</td>\n",
       "      <td>2022-07-06</td>\n",
       "      <td>NaT</td>\n",
       "    </tr>\n",
       "    <tr>\n",
       "      <th>736</th>\n",
       "      <td>BLD2022-19978</td>\n",
       "      <td>Building Permit</td>\n",
       "      <td>Residential 1/2</td>\n",
       "      <td>HO CRU 21244</td>\n",
       "      <td>8600 HATA ST</td>\n",
       "      <td>312419780201140</td>\n",
       "      <td>CRUZ MIRLA M</td>\n",
       "      <td>CRUZ MIRLA M</td>\n",
       "      <td>0.0</td>\n",
       "      <td>Lake Nona South</td>\n",
       "      <td>HGA CONSTRUCTION</td>\n",
       "      <td>BRIAN LEAHY (HGA CONSTRUCTION INC)</td>\n",
       "      <td>1465 GENE STREET,WINTER PARK, FL 32789</td>\n",
       "      <td>1</td>\n",
       "      <td>NaN</td>\n",
       "      <td>15000.0</td>\n",
       "      <td>Open</td>\n",
       "      <td>2022-09-16</td>\n",
       "      <td>2023-01-04</td>\n",
       "    </tr>\n",
       "    <tr>\n",
       "      <th>855</th>\n",
       "      <td>BLD2023-10220</td>\n",
       "      <td>Building Permit</td>\n",
       "      <td>Commercial</td>\n",
       "      <td>Iron Bridge Fire Alarm Improvements</td>\n",
       "      <td>601 Iron Bridge Cir</td>\n",
       "      <td>312130317400021</td>\n",
       "      <td>NaN</td>\n",
       "      <td>No Contact</td>\n",
       "      <td>0.0</td>\n",
       "      <td>NaN</td>\n",
       "      <td>MILLENNIUM FIRE &amp; SECURITY INC</td>\n",
       "      <td>CHRISTOPHER L MARTIN</td>\n",
       "      <td>6160 EDGEWATER DR,ORLANDO, FL 32810</td>\n",
       "      <td></td>\n",
       "      <td>NaN</td>\n",
       "      <td>120000.0</td>\n",
       "      <td>Open</td>\n",
       "      <td>2023-01-09</td>\n",
       "      <td>2023-02-28</td>\n",
       "    </tr>\n",
       "  </tbody>\n",
       "</table>\n",
       "</div>"
      ],
      "text/plain": [
       "      Permit Number    Application Type Plan Review Type                                      Project Name       Permit Address    Parcel Number                                  Parcel Owner Name                Property Owner Name  Square Footage     Neighborhood                   Contractor Name                          Contractor                      Contractor Address Commissioner District Mainstreet District  Estimated Cost Application Status Processed Date Issue Permit Date\n",
       "88    ENG2023-12665         Engineering  Residential 1/2                                          ADDITION   12062 AMPERSAND DR  312403897701590                    ONEY GEORGE ALAN ONEY DEBRA ANN   ONEY DEBRA ANN, ONEY GEORGE ALAN             0.0      Storey Park                               NaN                                 NaN                                     NaN                     1                 NaN             0.0            Finaled     2023-11-07        2023-11-08\n",
       "567   ENG2023-11739         Engineering  Residential 1/2                                REPAIR AND REPLACE   7234 BLACK BULL LN  282302345400810   HUNSBERGER SHANE MICHAEL FRANCHIM SAMANTA CHI...          FRANCHIM SAMANTA CHIARINI             0.0       Metro West  ALPHA FOUNDATION SPECIALISTS INC                   MATTHEW S SHANLEY     P O BOX 14989,TALLAHASSEE, FL 32317                     6                 NaN             0.0            Finaled     2023-07-05        2023-07-10\n",
       "659  SIF2021-186-14  School Impact Fees  Residential 1/2  Laureate Park Parcel N-3 Phase 2 107/135  Lot 80    10340 MARCONI AVE  312431484600800                          CENTURY HOMES FLORIDA LLC                                NaN          3062.0  Lake Nona South                               NaN                                 NaN                                     NaN                     1                 NaN             0.0             Closed     2022-07-06               NaT\n",
       "736   BLD2022-19978     Building Permit  Residential 1/2                                      HO CRU 21244         8600 HATA ST  312419780201140                                       CRUZ MIRLA M                       CRUZ MIRLA M             0.0  Lake Nona South                  HGA CONSTRUCTION  BRIAN LEAHY (HGA CONSTRUCTION INC)  1465 GENE STREET,WINTER PARK, FL 32789                     1                 NaN         15000.0               Open     2022-09-16        2023-01-04\n",
       "855   BLD2023-10220     Building Permit       Commercial               Iron Bridge Fire Alarm Improvements  601 Iron Bridge Cir  312130317400021                                                NaN                         No Contact             0.0              NaN    MILLENNIUM FIRE & SECURITY INC                CHRISTOPHER L MARTIN     6160 EDGEWATER DR,ORLANDO, FL 32810                                       NaN        120000.0               Open     2023-01-09        2023-02-28"
      ]
     },
     "execution_count": 8,
     "metadata": {},
     "output_type": "execute_result"
    }
   ],
   "source": [
    "permit_df_2022_sub['Issue Permit Date'] = pd.to_datetime(permit_df_2022_sub['Issue Permit Date'], format='%m/%d/%Y')\n",
    "permit_df_2022_sub.head()"
   ]
  },
  {
   "cell_type": "markdown",
   "metadata": {},
   "source": [
    "Check unique values of Application Status - we need this later to split current and previous permits"
   ]
  },
  {
   "cell_type": "code",
   "execution_count": 9,
   "metadata": {},
   "outputs": [
    {
     "data": {
      "text/plain": [
       "array(['Residential 1/2', 'Commercial', 'Residential 3 or more',\n",
       "       'No Plan Review Type'], dtype=object)"
      ]
     },
     "execution_count": 9,
     "metadata": {},
     "output_type": "execute_result"
    }
   ],
   "source": [
    "permit_df_2022_sub['Plan Review Type'].unique()"
   ]
  },
  {
   "cell_type": "markdown",
   "metadata": {},
   "source": [
    "Create subset of planning data with just the attributes we need"
   ]
  },
  {
   "cell_type": "code",
   "execution_count": 10,
   "metadata": {},
   "outputs": [],
   "source": [
    "planning_df_2022_sub = planning_df_2022[['Application Number', 'Application Name', 'Applicant', 'Address', \n",
    "                                         'Parcel ID', 'Commissioner District', 'Mainstreet District', 'Application Description', \n",
    "                                         'Neighborhood', 'Application Status', 'Application Date', 'Approval Date', 'Last Action Date']]"
   ]
  },
  {
   "cell_type": "markdown",
   "metadata": {},
   "source": [
    "Rename Parcel column"
   ]
  },
  {
   "cell_type": "code",
   "execution_count": 11,
   "metadata": {},
   "outputs": [
    {
     "name": "stderr",
     "output_type": "stream",
     "text": [
      "/var/folders/s_/qq24xl7d1s7f49945mqkqtx00000gn/T/ipykernel_12114/1653012612.py:1: SettingWithCopyWarning: \n",
      "A value is trying to be set on a copy of a slice from a DataFrame\n",
      "\n",
      "See the caveats in the documentation: https://pandas.pydata.org/pandas-docs/stable/user_guide/indexing.html#returning-a-view-versus-a-copy\n",
      "  planning_df_2022_sub.rename(columns={\"Parcel ID\":\"Parcel Name\"}, inplace= True)\n"
     ]
    },
    {
     "data": {
      "text/html": [
       "<div>\n",
       "<style scoped>\n",
       "    .dataframe tbody tr th:only-of-type {\n",
       "        vertical-align: middle;\n",
       "    }\n",
       "\n",
       "    .dataframe tbody tr th {\n",
       "        vertical-align: top;\n",
       "    }\n",
       "\n",
       "    .dataframe thead th {\n",
       "        text-align: right;\n",
       "    }\n",
       "</style>\n",
       "<table border=\"1\" class=\"dataframe\">\n",
       "  <thead>\n",
       "    <tr style=\"text-align: right;\">\n",
       "      <th></th>\n",
       "      <th>Application Number</th>\n",
       "      <th>Application Name</th>\n",
       "      <th>Applicant</th>\n",
       "      <th>Address</th>\n",
       "      <th>Parcel Name</th>\n",
       "      <th>Commissioner District</th>\n",
       "      <th>Mainstreet District</th>\n",
       "      <th>Application Description</th>\n",
       "      <th>Neighborhood</th>\n",
       "      <th>Application Status</th>\n",
       "      <th>Application Date</th>\n",
       "      <th>Approval Date</th>\n",
       "      <th>Last Action Date</th>\n",
       "    </tr>\n",
       "  </thead>\n",
       "  <tbody>\n",
       "    <tr>\n",
       "      <th>0</th>\n",
       "      <td>HPB2022-10099</td>\n",
       "      <td>54 N Orange Ave. (SWC</td>\n",
       "      <td>GEORGE F MALTEZOS</td>\n",
       "      <td>54 N ORANGE AVE</td>\n",
       "      <td>29-22-26-7352-36-011</td>\n",
       "      <td>5</td>\n",
       "      <td>City District</td>\n",
       "      <td>Historic Preservation Board</td>\n",
       "      <td>Central Business District</td>\n",
       "      <td>Closed</td>\n",
       "      <td>2022-04-05</td>\n",
       "      <td>2022-05-16</td>\n",
       "      <td>2024-01-15</td>\n",
       "    </tr>\n",
       "    <tr>\n",
       "      <th>1</th>\n",
       "      <td>HPB2022-10083</td>\n",
       "      <td>515 Delaney Ave. (Alterations)</td>\n",
       "      <td>Elizabeth Marsh</td>\n",
       "      <td>515  DELANEY AVE</td>\n",
       "      <td>29-22-36-1988-02-030</td>\n",
       "      <td>4</td>\n",
       "      <td>NaN</td>\n",
       "      <td>Historic Preservation Board</td>\n",
       "      <td>Lake Cherokee</td>\n",
       "      <td>Closed</td>\n",
       "      <td>2022-03-22</td>\n",
       "      <td>2022-04-04</td>\n",
       "      <td>2024-01-15</td>\n",
       "    </tr>\n",
       "    <tr>\n",
       "      <th>4</th>\n",
       "      <td>HPB2022-10231</td>\n",
       "      <td>1104 E Livingston St.</td>\n",
       "      <td>Steve Voeller</td>\n",
       "      <td>1104 E LIVINGSTON ST</td>\n",
       "      <td>29-22-25-2508-05-080</td>\n",
       "      <td>4</td>\n",
       "      <td>NaN</td>\n",
       "      <td>Historic Preservation Board</td>\n",
       "      <td>Lake Eola Heights</td>\n",
       "      <td>Closed</td>\n",
       "      <td>2022-09-09</td>\n",
       "      <td>2022-12-01</td>\n",
       "      <td>2024-01-29</td>\n",
       "    </tr>\n",
       "    <tr>\n",
       "      <th>5</th>\n",
       "      <td>HPB2022-10241</td>\n",
       "      <td>137 E Concord St.</td>\n",
       "      <td>Confidential</td>\n",
       "      <td>137 E CONCORD ST</td>\n",
       "      <td>29-22-25-3704-00-101</td>\n",
       "      <td>4</td>\n",
       "      <td>NaN</td>\n",
       "      <td>Historic Preservation Board</td>\n",
       "      <td>Lake Eola Heights</td>\n",
       "      <td>Closed</td>\n",
       "      <td>2022-09-16</td>\n",
       "      <td>2022-09-19</td>\n",
       "      <td>2024-01-15</td>\n",
       "    </tr>\n",
       "    <tr>\n",
       "      <th>7</th>\n",
       "      <td>MOD2022-10030</td>\n",
       "      <td>1203 Reading Dr. - detached garage</td>\n",
       "      <td>ROBERT B DUKES</td>\n",
       "      <td>1203  READING DR</td>\n",
       "      <td>29-22-22-2412-10-101</td>\n",
       "      <td>3</td>\n",
       "      <td>NaN</td>\n",
       "      <td>Modification of Standards</td>\n",
       "      <td>College Park</td>\n",
       "      <td>Closed</td>\n",
       "      <td>2022-04-25</td>\n",
       "      <td>2022-08-17</td>\n",
       "      <td>2024-01-15</td>\n",
       "    </tr>\n",
       "  </tbody>\n",
       "</table>\n",
       "</div>"
      ],
      "text/plain": [
       "  Application Number                    Application Name          Applicant               Address           Parcel Name Commissioner District Mainstreet District      Application Description               Neighborhood Application Status Application Date Approval Date Last Action Date\n",
       "0      HPB2022-10099               54 N Orange Ave. (SWC  GEORGE F MALTEZOS       54 N ORANGE AVE  29-22-26-7352-36-011                     5       City District  Historic Preservation Board  Central Business District             Closed       2022-04-05    2022-05-16       2024-01-15\n",
       "1      HPB2022-10083      515 Delaney Ave. (Alterations)    Elizabeth Marsh      515  DELANEY AVE  29-22-36-1988-02-030                     4                 NaN  Historic Preservation Board              Lake Cherokee             Closed       2022-03-22    2022-04-04       2024-01-15\n",
       "4      HPB2022-10231               1104 E Livingston St.      Steve Voeller  1104 E LIVINGSTON ST  29-22-25-2508-05-080                     4                 NaN  Historic Preservation Board          Lake Eola Heights             Closed       2022-09-09    2022-12-01       2024-01-29\n",
       "5      HPB2022-10241                   137 E Concord St.       Confidential      137 E CONCORD ST  29-22-25-3704-00-101                     4                 NaN  Historic Preservation Board          Lake Eola Heights             Closed       2022-09-16    2022-09-19       2024-01-15\n",
       "7      MOD2022-10030  1203 Reading Dr. - detached garage     ROBERT B DUKES      1203  READING DR  29-22-22-2412-10-101                     3                 NaN    Modification of Standards               College Park             Closed       2022-04-25    2022-08-17       2024-01-15"
      ]
     },
     "execution_count": 11,
     "metadata": {},
     "output_type": "execute_result"
    }
   ],
   "source": [
    "planning_df_2022_sub.rename(columns={\"Parcel ID\":\"Parcel Name\"}, inplace= True)\n",
    "   \n",
    "planning_df_2022_sub.head()"
   ]
  },
  {
   "cell_type": "markdown",
   "metadata": {},
   "source": [
    "Upload the finished subsets to SQL"
   ]
  },
  {
   "cell_type": "code",
   "execution_count": 12,
   "metadata": {},
   "outputs": [
    {
     "name": "stderr",
     "output_type": "stream",
     "text": [
      "/var/folders/s_/qq24xl7d1s7f49945mqkqtx00000gn/T/ipykernel_12114/3962034922.py:2: SettingWithCopyWarning: \n",
      "A value is trying to be set on a copy of a slice from a DataFrame.\n",
      "Try using .loc[row_indexer,col_indexer] = value instead\n",
      "\n",
      "See the caveats in the documentation: https://pandas.pydata.org/pandas-docs/stable/user_guide/indexing.html#returning-a-view-versus-a-copy\n",
      "  permit_df_2022_sub['Update Timestamp'] = datetime.now()\n",
      "/var/folders/s_/qq24xl7d1s7f49945mqkqtx00000gn/T/ipykernel_12114/3962034922.py:3: SettingWithCopyWarning: \n",
      "A value is trying to be set on a copy of a slice from a DataFrame.\n",
      "Try using .loc[row_indexer,col_indexer] = value instead\n",
      "\n",
      "See the caveats in the documentation: https://pandas.pydata.org/pandas-docs/stable/user_guide/indexing.html#returning-a-view-versus-a-copy\n",
      "  planning_df_2022_sub['Update Timestamp'] = datetime.now()\n"
     ]
    }
   ],
   "source": [
    "# Add an update timestamp column to permit and planning df\n",
    "permit_df_2022_sub['Update Timestamp'] = datetime.now()\n",
    "planning_df_2022_sub['Update Timestamp'] = datetime.now()"
   ]
  },
  {
   "cell_type": "code",
   "execution_count": 13,
   "metadata": {},
   "outputs": [],
   "source": [
    "from sqlalchemy import create_engine\n",
    "\n",
    "# PostgreSQL connection details\n",
    "dbname = 'acrist_cs689_termproj'\n",
    "user = 'postgres'\n",
    "password = 'postgres1092'\n",
    "host = 'localhost' \n",
    "\n",
    "# Create SQLAlchemy engine\n",
    "engine = create_engine(f'postgresql://{user}:{password}@{host}/{dbname}')\n",
    "\n",
    "# Create staging tables in the orlando_development schema\n",
    "permit_df_2022_sub.to_sql('Permit_Staging', engine, schema='orlando_development', if_exists='replace', index=False)\n",
    "planning_df_2022_sub.to_sql('Planning_Staging', engine, schema='orlando_development', if_exists='replace', index=False)\n",
    "workforce_df.to_sql('Workforce_Staging', engine, schema='orlando_development', if_exists='replace', index=False)\n",
    "housing_df.to_sql('Housing_Staging', engine, schema='orlando_development', if_exists='replace', index=False)\n",
    "\n",
    "# Commit changes\n",
    "engine.dispose()"
   ]
  }
 ],
 "metadata": {
  "kernelspec": {
   "display_name": "Python 3",
   "language": "python",
   "name": "python3"
  },
  "language_info": {
   "codemirror_mode": {
    "name": "ipython",
    "version": 3
   },
   "file_extension": ".py",
   "mimetype": "text/x-python",
   "name": "python",
   "nbconvert_exporter": "python",
   "pygments_lexer": "ipython3",
   "version": "3.12.2"
  }
 },
 "nbformat": 4,
 "nbformat_minor": 2
}
